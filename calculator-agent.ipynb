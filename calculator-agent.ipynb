{
 "cells": [
  {
   "cell_type": "code",
   "execution_count": 9,
   "metadata": {},
   "outputs": [],
   "source": [
    "import os\n",
    "from dotenv import load_dotenv, find_dotenv\n",
    "_ = load_dotenv(find_dotenv())\n",
    "openai_api_key = os.environ[\"OPENAI_API_KEY\"]"
   ]
  },
  {
   "cell_type": "code",
   "execution_count": 10,
   "metadata": {},
   "outputs": [],
   "source": [
    "from langchain_openai import ChatOpenAI\n",
    "from langgraph.graph import StateGraph, END\n",
    "from langchain_core.messages import HumanMessage, SystemMessage\n",
    "from typing import TypedDict\n",
    "\n",
    "llm = ChatOpenAI(\n",
    "    api_key=os.getenv(\"OPENAI_API_KEY\"),\n",
    "    model=\"gpt-3.5-turbo\"\n",
    ")\n",
    "\n",
    "system_message = SystemMessage(content=\"Eres una calculadora diseñada para resolver las operaciones básicas\")\n",
    "\n",
    "\n",
    "class State(TypedDict):\n",
    "  first_number: int\n",
    "  second_number: int\n",
    "  result: int"
   ]
  },
  {
   "cell_type": "code",
   "execution_count": 11,
   "metadata": {},
   "outputs": [],
   "source": [
    "GET_FIRST_NUMBER_NODE = \"get_first_number_node\"\n",
    "GET_SECOND_NUMBER_NODE = \"get_second_number_node\"\n",
    "GET_RESULT_NODE = \"get_result_node\""
   ]
  },
  {
   "cell_type": "code",
   "execution_count": 12,
   "metadata": {},
   "outputs": [],
   "source": [
    "def get_first_number_node(state):\n",
    "  human_message = HumanMessage(\n",
    "      content=\"Genera un número aleatorio del 1 al 10 y devuélvelo solo como un número, sin texto adicional.\")\n",
    "  messages = [system_message, human_message]\n",
    "  ia_response = llm.invoke(messages)\n",
    "  response = int(ia_response.content)\n",
    "  state[\"first_number\"] = int(response)\n",
    "  print(f\"first number: {state[\"first_number\"]}\")\n",
    "  return state\n",
    "\n",
    "def get_second_number_node(state):\n",
    "  human_message = HumanMessage(\n",
    "      content=\"Genera un número aleatorio del 1 al 10 y devuélvelo solo como un número, sin texto adicional.\")\n",
    "  messages = [system_message, human_message]\n",
    "  ia_response = llm.invoke(messages)\n",
    "  response = int(ia_response.content)\n",
    "  state[\"second_number\"] = int(response)\n",
    "  print(f\"second number: {state[\"second_number\"]}\")\n",
    "  return state"
   ]
  },
  {
   "cell_type": "code",
   "execution_count": 17,
   "metadata": {},
   "outputs": [],
   "source": [
    "workflow = StateGraph(State)\n",
    "\n",
    "workflow.add_node(GET_FIRST_NUMBER_NODE, get_first_number_node)\n",
    "workflow.add_node(GET_SECOND_NUMBER_NODE, get_second_number_node)\n",
    "\n",
    "workflow.set_entry_point(GET_FIRST_NUMBER_NODE)\n",
    "workflow.set_finish_point(GET_SECOND_NUMBER_NODE)\n",
    "\n",
    "workflow.add_edge(GET_FIRST_NUMBER_NODE, GET_SECOND_NUMBER_NODE)\n"
   ]
  },
  {
   "cell_type": "code",
   "execution_count": 18,
   "metadata": {},
   "outputs": [],
   "source": [
    "agent = workflow.compile()"
   ]
  },
  {
   "cell_type": "code",
   "execution_count": 19,
   "metadata": {},
   "outputs": [
    {
     "name": "stdout",
     "output_type": "stream",
     "text": [
      "first number: 7\n",
      "second number: 8\n"
     ]
    },
    {
     "data": {
      "text/plain": [
       "{'first_number': 7, 'second_number': 8, 'result': 0}"
      ]
     },
     "execution_count": 19,
     "metadata": {},
     "output_type": "execute_result"
    }
   ],
   "source": [
    "initial_state = {\"first_number\": 0, \"second_number\": 0, \"result\": 0}\n",
    "agent.invoke(initial_state)"
   ]
  },
  {
   "cell_type": "code",
   "execution_count": null,
   "metadata": {},
   "outputs": [],
   "source": []
  }
 ],
 "metadata": {
  "kernelspec": {
   "display_name": "myenv1",
   "language": "python",
   "name": "python3"
  },
  "language_info": {
   "codemirror_mode": {
    "name": "ipython",
    "version": 3
   },
   "file_extension": ".py",
   "mimetype": "text/x-python",
   "name": "python",
   "nbconvert_exporter": "python",
   "pygments_lexer": "ipython3",
   "version": "3.12.4"
  }
 },
 "nbformat": 4,
 "nbformat_minor": 2
}
